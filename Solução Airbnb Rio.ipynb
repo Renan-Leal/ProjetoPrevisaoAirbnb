{
 "cells": [
  {
   "cell_type": "markdown",
   "metadata": {},
   "source": [
    "# Projeto Airbnb Rio - Ferramenta de Previsão de Preço de Imóvel para pessoas comuns "
   ]
  },
  {
   "cell_type": "markdown",
   "metadata": {},
   "source": [
    "<h3>Etapas a serem seguidos:</h3>\n",
    "<ul>\n",
    "    <li>Entendimento do desafio a ser resolvido;</li>\n",
    "    <li>Entendimento da empresa/área;</li>\n",
    "    <li>Extração/Obtenção de dados;</li>\n",
    "    <li>Ajuste de dados (limpeza de dados);</li>\n",
    "    <li>Análise exploratória;</li>\n",
    "    <li>Modelagem + algoritmos;</li>\n",
    "    <li>Interpretação dos resultados;</li>\n",
    "    <li>Deploy/Produção;</li>\n",
    "</ul>\n",
    "<hr>"
   ]
  },
  {
   "cell_type": "markdown",
   "metadata": {},
   "source": [
    "### Contexto\n",
    "\n",
    "No Airbnb, qualquer pessoa que tenha um quarto ou um imóvel de qualquer tipo (apartamento, casa, chalé, pousada, etc.) pode ofertar o seu imóvel para ser alugado por diária.\n",
    "\n",
    "Você cria o seu perfil de host (pessoa que disponibiliza um imóvel para aluguel por diária) e cria o anúncio do seu imóvel.\n",
    "\n",
    "Nesse anúncio, o host deve descrever as características do imóvel da forma mais completa possível, de forma a ajudar os locadores/viajantes a escolherem o melhor imóvel para eles (e de forma a tornar o seu anúncio mais atrativo)\n",
    "\n",
    "Existem dezenas de personalizações possíveis no seu anúncio, desde quantidade mínima de diária, preço, quantidade de quartos, até regras de cancelamento, taxa extra para hóspedes extras, exigência de verificação de identidade do locador, etc.\n",
    "\n",
    "### Nosso objetivo\n",
    "\n",
    "Construir um modelo de previsão de preço que permita uma pessoa comum que possui um imóvel possa saber quanto deve cobrar pela diária do seu imóvel.\n",
    "\n",
    "Ou ainda, para o locador comum, dado o imóvel que ele está buscando, ajudar a saber se aquele imóvel está com preço atrativo (abaixo da média para imóveis com as mesmas características) ou não.\n",
    "\n",
    "### O que temos disponível, inspirações e créditos\n",
    "\n",
    "As bases de dados foram retiradas do site kaggle: https://www.kaggle.com/allanbruno/airbnb-rio-de-janeiro\n",
    "\n",
    "Elas estão disponíveis para download abaixo da aula (se você puxar os dados direto do Kaggle pode ser que encontre resultados diferentes dos meus, afinal as bases de dados podem ter sido atualizadas).\n",
    "\n",
    "Caso queira uma outra solução, podemos olhar como referência a solução do usuário Allan Bruno do kaggle no Notebook: https://www.kaggle.com/allanbruno/helping-regular-people-price-listings-on-airbnb\n",
    "\n",
    "Você vai perceber semelhanças entre a solução que vamos desenvolver aqui e a dele, mas também algumas diferenças significativas no processo de construção do projeto.\n",
    "\n",
    "- As bases de dados são os preços dos imóveis obtidos e suas respectivas características em cada mês.\n",
    "- Os preços são dados em reais (R$)\n",
    "- Temos bases de abril de 2018 a maio de 2020, com exceção de junho de 2018 que não possui base de dados\n",
    "\n",
    "### Expectativas Iniciais\n",
    "\n",
    "- Acredito que a sazonalidade pode ser um fator importante, visto que meses como dezembro costumam ser bem caros no RJ\n",
    "- A localização do imóvel deve fazer muita diferença no preço, já que no Rio de Janeiro a localização pode mudar completamente as características do lugar (segurança, beleza natural, pontos turísticos)\n",
    "- Adicionais/Comodidades podem ter um impacto significativo, visto que temos muitos prédios e casas antigos no Rio de Janeiro\n",
    "\n",
    "Vamos descobrir o quanto esses fatores impactam e se temos outros fatores não tão intuitivos que são extremamente importantes."
   ]
  },
  {
   "cell_type": "markdown",
   "metadata": {},
   "source": [
    "### Importar Bibliotecas e Bases de Dados"
   ]
  },
  {
   "cell_type": "code",
   "execution_count": 1,
   "metadata": {},
   "outputs": [],
   "source": [
    "import pandas as pd\n",
    "from pathlib import Path"
   ]
  },
  {
   "cell_type": "markdown",
   "metadata": {},
   "source": [
    "### Consolidar Base de Dados"
   ]
  },
  {
   "cell_type": "code",
   "execution_count": 2,
   "metadata": {},
   "outputs": [
    {
     "name": "stderr",
     "output_type": "stream",
     "text": [
      "C:\\Users\\Renan\\anaconda3\\lib\\site-packages\\IPython\\core\\interactiveshell.py:3444: DtypeWarning: Columns (62,87) have mixed types.Specify dtype option on import or set low_memory=False.\n",
      "  exec(code_obj, self.user_global_ns, self.user_ns)\n",
      "C:\\Users\\Renan\\anaconda3\\lib\\site-packages\\IPython\\core\\interactiveshell.py:3444: DtypeWarning: Columns (61,62,94) have mixed types.Specify dtype option on import or set low_memory=False.\n",
      "  exec(code_obj, self.user_global_ns, self.user_ns)\n",
      "C:\\Users\\Renan\\anaconda3\\lib\\site-packages\\IPython\\core\\interactiveshell.py:3444: DtypeWarning: Columns (87) have mixed types.Specify dtype option on import or set low_memory=False.\n",
      "  exec(code_obj, self.user_global_ns, self.user_ns)\n"
     ]
    }
   ],
   "source": [
    "meses = {'jan': 1, 'fev': 2, 'mar': 3, 'abr': 4, 'mai': 5, 'jun': 6, 'jul': 7, 'ago': 8, 'set': 9, 'out': 10, 'nov': 11, 'dez': 12}\n",
    "caminhoBaseDados = Path('dataset')\n",
    "baseDadosArbnb = pd.DataFrame()\n",
    "\n",
    "for arquivo in caminhoBaseDados.iterdir():\n",
    "#Criando colunas que armazenará ano e mês.\n",
    "    mes = meses[arquivo.name[:3]]\n",
    "    ano = arquivo.name[-8:]\n",
    "    ano = int(ano.replace('.csv', ''))\n",
    "    df = pd.read_csv(caminhoBaseDados / arquivo.name)\n",
    "    df['ano'] = ano\n",
    "    df['mes'] = mes\n",
    "    \n",
    "#Percorrendo todos os arquivos csv e transformando numa base de dados única.\n",
    "    baseDadosArbnb = pd.concat([baseDadosArbnb, df])"
   ]
  },
  {
   "cell_type": "code",
   "execution_count": 3,
   "metadata": {
    "scrolled": true
   },
   "outputs": [
    {
     "data": {
      "text/html": [
       "<div>\n",
       "<style scoped>\n",
       "    .dataframe tbody tr th:only-of-type {\n",
       "        vertical-align: middle;\n",
       "    }\n",
       "\n",
       "    .dataframe tbody tr th {\n",
       "        vertical-align: top;\n",
       "    }\n",
       "\n",
       "    .dataframe thead th {\n",
       "        text-align: right;\n",
       "    }\n",
       "</style>\n",
       "<table border=\"1\" class=\"dataframe\">\n",
       "  <thead>\n",
       "    <tr style=\"text-align: right;\">\n",
       "      <th></th>\n",
       "      <th>id</th>\n",
       "      <th>listing_url</th>\n",
       "      <th>scrape_id</th>\n",
       "      <th>last_scraped</th>\n",
       "      <th>name</th>\n",
       "      <th>summary</th>\n",
       "      <th>space</th>\n",
       "      <th>description</th>\n",
       "      <th>experiences_offered</th>\n",
       "      <th>neighborhood_overview</th>\n",
       "      <th>...</th>\n",
       "      <th>minimum_minimum_nights</th>\n",
       "      <th>maximum_minimum_nights</th>\n",
       "      <th>minimum_maximum_nights</th>\n",
       "      <th>maximum_maximum_nights</th>\n",
       "      <th>minimum_nights_avg_ntm</th>\n",
       "      <th>maximum_nights_avg_ntm</th>\n",
       "      <th>number_of_reviews_ltm</th>\n",
       "      <th>calculated_host_listings_count_entire_homes</th>\n",
       "      <th>calculated_host_listings_count_private_rooms</th>\n",
       "      <th>calculated_host_listings_count_shared_rooms</th>\n",
       "    </tr>\n",
       "  </thead>\n",
       "  <tbody>\n",
       "    <tr>\n",
       "      <th>0</th>\n",
       "      <td>14063</td>\n",
       "      <td>https://www.airbnb.com/rooms/14063</td>\n",
       "      <td>20180414160018</td>\n",
       "      <td>2018-04-14</td>\n",
       "      <td>Living in a Postcard</td>\n",
       "      <td>Besides the most iconic's view, our apartment ...</td>\n",
       "      <td>NaN</td>\n",
       "      <td>Besides the most iconic's view, our apartment ...</td>\n",
       "      <td>none</td>\n",
       "      <td>Best and favorite neighborhood of Rio. Perfect...</td>\n",
       "      <td>...</td>\n",
       "      <td>NaN</td>\n",
       "      <td>NaN</td>\n",
       "      <td>NaN</td>\n",
       "      <td>NaN</td>\n",
       "      <td>NaN</td>\n",
       "      <td>NaN</td>\n",
       "      <td>NaN</td>\n",
       "      <td>NaN</td>\n",
       "      <td>NaN</td>\n",
       "      <td>NaN</td>\n",
       "    </tr>\n",
       "    <tr>\n",
       "      <th>1</th>\n",
       "      <td>17878</td>\n",
       "      <td>https://www.airbnb.com/rooms/17878</td>\n",
       "      <td>20180414160018</td>\n",
       "      <td>2018-04-14</td>\n",
       "      <td>Very Nice 2Br - Copacabana - WiFi</td>\n",
       "      <td>Please note that special rates apply for New Y...</td>\n",
       "      <td>- large balcony which looks out on pedestrian ...</td>\n",
       "      <td>Please note that special rates apply for New Y...</td>\n",
       "      <td>none</td>\n",
       "      <td>This is the best spot in Rio. Everything happe...</td>\n",
       "      <td>...</td>\n",
       "      <td>NaN</td>\n",
       "      <td>NaN</td>\n",
       "      <td>NaN</td>\n",
       "      <td>NaN</td>\n",
       "      <td>NaN</td>\n",
       "      <td>NaN</td>\n",
       "      <td>NaN</td>\n",
       "      <td>NaN</td>\n",
       "      <td>NaN</td>\n",
       "      <td>NaN</td>\n",
       "    </tr>\n",
       "    <tr>\n",
       "      <th>2</th>\n",
       "      <td>24480</td>\n",
       "      <td>https://www.airbnb.com/rooms/24480</td>\n",
       "      <td>20180414160018</td>\n",
       "      <td>2018-04-14</td>\n",
       "      <td>Nice and cozy near Ipanema Beach</td>\n",
       "      <td>My studio is located in the best  of Ipanema. ...</td>\n",
       "      <td>The studio is located at Vinicius de Moraes St...</td>\n",
       "      <td>My studio is located in the best  of Ipanema. ...</td>\n",
       "      <td>none</td>\n",
       "      <td>The beach, the lagoon, Ipanema is a great loca...</td>\n",
       "      <td>...</td>\n",
       "      <td>NaN</td>\n",
       "      <td>NaN</td>\n",
       "      <td>NaN</td>\n",
       "      <td>NaN</td>\n",
       "      <td>NaN</td>\n",
       "      <td>NaN</td>\n",
       "      <td>NaN</td>\n",
       "      <td>NaN</td>\n",
       "      <td>NaN</td>\n",
       "      <td>NaN</td>\n",
       "    </tr>\n",
       "    <tr>\n",
       "      <th>3</th>\n",
       "      <td>25026</td>\n",
       "      <td>https://www.airbnb.com/rooms/25026</td>\n",
       "      <td>20180414160018</td>\n",
       "      <td>2018-04-14</td>\n",
       "      <td>Beautiful Modern Decorated Studio in Copa</td>\n",
       "      <td>Our apartment is a little gem, everyone loves ...</td>\n",
       "      <td>This newly renovated studio (last renovations ...</td>\n",
       "      <td>Our apartment is a little gem, everyone loves ...</td>\n",
       "      <td>none</td>\n",
       "      <td>Copacabana is a lively neighborhood and the ap...</td>\n",
       "      <td>...</td>\n",
       "      <td>NaN</td>\n",
       "      <td>NaN</td>\n",
       "      <td>NaN</td>\n",
       "      <td>NaN</td>\n",
       "      <td>NaN</td>\n",
       "      <td>NaN</td>\n",
       "      <td>NaN</td>\n",
       "      <td>NaN</td>\n",
       "      <td>NaN</td>\n",
       "      <td>NaN</td>\n",
       "    </tr>\n",
       "    <tr>\n",
       "      <th>4</th>\n",
       "      <td>31560</td>\n",
       "      <td>https://www.airbnb.com/rooms/31560</td>\n",
       "      <td>20180414160018</td>\n",
       "      <td>2018-04-14</td>\n",
       "      <td>NICE &amp; COZY 1BDR - IPANEMA BEACH</td>\n",
       "      <td>This nice and clean 1 bedroom apartment is loc...</td>\n",
       "      <td>This nice and clean 1 bedroom apartment is loc...</td>\n",
       "      <td>This nice and clean 1 bedroom apartment is loc...</td>\n",
       "      <td>none</td>\n",
       "      <td>Die Nachbarschaft von Ipanema ist super lebend...</td>\n",
       "      <td>...</td>\n",
       "      <td>NaN</td>\n",
       "      <td>NaN</td>\n",
       "      <td>NaN</td>\n",
       "      <td>NaN</td>\n",
       "      <td>NaN</td>\n",
       "      <td>NaN</td>\n",
       "      <td>NaN</td>\n",
       "      <td>NaN</td>\n",
       "      <td>NaN</td>\n",
       "      <td>NaN</td>\n",
       "    </tr>\n",
       "  </tbody>\n",
       "</table>\n",
       "<p>5 rows × 108 columns</p>\n",
       "</div>"
      ],
      "text/plain": [
       "      id                         listing_url       scrape_id last_scraped  \\\n",
       "0  14063  https://www.airbnb.com/rooms/14063  20180414160018   2018-04-14   \n",
       "1  17878  https://www.airbnb.com/rooms/17878  20180414160018   2018-04-14   \n",
       "2  24480  https://www.airbnb.com/rooms/24480  20180414160018   2018-04-14   \n",
       "3  25026  https://www.airbnb.com/rooms/25026  20180414160018   2018-04-14   \n",
       "4  31560  https://www.airbnb.com/rooms/31560  20180414160018   2018-04-14   \n",
       "\n",
       "                                        name  \\\n",
       "0                       Living in a Postcard   \n",
       "1          Very Nice 2Br - Copacabana - WiFi   \n",
       "2           Nice and cozy near Ipanema Beach   \n",
       "3  Beautiful Modern Decorated Studio in Copa   \n",
       "4           NICE & COZY 1BDR - IPANEMA BEACH   \n",
       "\n",
       "                                             summary  \\\n",
       "0  Besides the most iconic's view, our apartment ...   \n",
       "1  Please note that special rates apply for New Y...   \n",
       "2  My studio is located in the best  of Ipanema. ...   \n",
       "3  Our apartment is a little gem, everyone loves ...   \n",
       "4  This nice and clean 1 bedroom apartment is loc...   \n",
       "\n",
       "                                               space  \\\n",
       "0                                                NaN   \n",
       "1  - large balcony which looks out on pedestrian ...   \n",
       "2  The studio is located at Vinicius de Moraes St...   \n",
       "3  This newly renovated studio (last renovations ...   \n",
       "4  This nice and clean 1 bedroom apartment is loc...   \n",
       "\n",
       "                                         description experiences_offered  \\\n",
       "0  Besides the most iconic's view, our apartment ...                none   \n",
       "1  Please note that special rates apply for New Y...                none   \n",
       "2  My studio is located in the best  of Ipanema. ...                none   \n",
       "3  Our apartment is a little gem, everyone loves ...                none   \n",
       "4  This nice and clean 1 bedroom apartment is loc...                none   \n",
       "\n",
       "                               neighborhood_overview  ...  \\\n",
       "0  Best and favorite neighborhood of Rio. Perfect...  ...   \n",
       "1  This is the best spot in Rio. Everything happe...  ...   \n",
       "2  The beach, the lagoon, Ipanema is a great loca...  ...   \n",
       "3  Copacabana is a lively neighborhood and the ap...  ...   \n",
       "4  Die Nachbarschaft von Ipanema ist super lebend...  ...   \n",
       "\n",
       "  minimum_minimum_nights maximum_minimum_nights minimum_maximum_nights  \\\n",
       "0                    NaN                    NaN                    NaN   \n",
       "1                    NaN                    NaN                    NaN   \n",
       "2                    NaN                    NaN                    NaN   \n",
       "3                    NaN                    NaN                    NaN   \n",
       "4                    NaN                    NaN                    NaN   \n",
       "\n",
       "  maximum_maximum_nights minimum_nights_avg_ntm  maximum_nights_avg_ntm  \\\n",
       "0                    NaN                    NaN                     NaN   \n",
       "1                    NaN                    NaN                     NaN   \n",
       "2                    NaN                    NaN                     NaN   \n",
       "3                    NaN                    NaN                     NaN   \n",
       "4                    NaN                    NaN                     NaN   \n",
       "\n",
       "   number_of_reviews_ltm calculated_host_listings_count_entire_homes  \\\n",
       "0                    NaN                                         NaN   \n",
       "1                    NaN                                         NaN   \n",
       "2                    NaN                                         NaN   \n",
       "3                    NaN                                         NaN   \n",
       "4                    NaN                                         NaN   \n",
       "\n",
       "   calculated_host_listings_count_private_rooms  \\\n",
       "0                                           NaN   \n",
       "1                                           NaN   \n",
       "2                                           NaN   \n",
       "3                                           NaN   \n",
       "4                                           NaN   \n",
       "\n",
       "   calculated_host_listings_count_shared_rooms  \n",
       "0                                          NaN  \n",
       "1                                          NaN  \n",
       "2                                          NaN  \n",
       "3                                          NaN  \n",
       "4                                          NaN  \n",
       "\n",
       "[5 rows x 108 columns]"
      ]
     },
     "metadata": {},
     "output_type": "display_data"
    }
   ],
   "source": [
    "display(baseDadosArbnb.head())"
   ]
  },
  {
   "cell_type": "markdown",
   "metadata": {},
   "source": [
    "### Se tivermos muitas colunas, já vamos identificar quais colunas podemos excluir"
   ]
  },
  {
   "cell_type": "markdown",
   "metadata": {},
   "source": [
    "- Como temos muitas colunas, o modelo pode ficar muito lento. \n",
    "- Além disso, uma análise rápida permite verificar quais colunas não serão necessárias para o modelo de previsão, por isso deverei excluir algumas colunas da base.\n",
    "- Tipo de colunas a serem excluídas:\n",
    "    1. Ids, links e informações não relevantes para o modelo.\n",
    "    2. Colunas repetidas ou parecidas, ou seja, que transmitem a mesma informação para o modelo. Data x Ano/Mês\n",
    "    3. Colunas preenchidas com texto livre. Não irei rodar análises de palavras.\n",
    "    4. Colunas onde todos os valores ou quase todos são iguais.\n",
    "- Para isso, irei criar um arquivo excel com os 1.000 primeiros registros e fazer uma análise qualitativa."
   ]
  },
  {
   "cell_type": "markdown",
   "metadata": {},
   "source": [
    "### Depois da análise qualitativa das colunas, levando em conta os critérios explicados acima, ficamos com as seguintes colunas: "
   ]
  },
  {
   "cell_type": "code",
   "execution_count": 4,
   "metadata": {
    "scrolled": true
   },
   "outputs": [
    {
     "name": "stdout",
     "output_type": "stream",
     "text": [
      "['host_response_time', 'host_response_rate', 'host_is_superhost', 'host_listings_count', 'latitude', 'longitude', 'property_type', 'room_type', 'accommodates', 'bathrooms', 'bedrooms', 'beds', 'bed_type', 'amenities', 'price', 'security_deposit', 'cleaning_fee', 'guests_included', 'extra_people', 'minimum_nights', 'maximum_nights', 'number_of_reviews', 'review_scores_rating', 'review_scores_accuracy', 'review_scores_cleanliness', 'review_scores_checkin', 'review_scores_communication', 'review_scores_location', 'review_scores_value', 'instant_bookable', 'is_business_travel_ready', 'cancellation_policy', 'ano', 'mes']\n"
     ]
    }
   ],
   "source": [
    "colunas = ['host_response_time','host_response_rate','host_is_superhost','host_listings_count','latitude','longitude','property_type','room_type','accommodates','bathrooms','bedrooms','beds','bed_type','amenities','price','security_deposit','cleaning_fee','guests_included','extra_people','minimum_nights','maximum_nights','number_of_reviews','review_scores_rating','review_scores_accuracy','review_scores_cleanliness','review_scores_checkin','review_scores_communication','review_scores_location','review_scores_value','instant_bookable','is_business_travel_ready','cancellation_policy','ano','mes']\n",
    "baseDadosArbnb = baseDadosArbnb.loc[:, colunas]\n",
    "print(list(baseDadosArbnb.columns))"
   ]
  },
  {
   "cell_type": "markdown",
   "metadata": {},
   "source": [
    "### Tratar Valores Faltando"
   ]
  },
  {
   "cell_type": "markdown",
   "metadata": {},
   "source": [
    "- Visualizando os dados, percebe-se que existe uma grande disparidade em dados faltantes. As colunas com mais de 300.000 valores NaN foram excluídas da análise. \n",
    "- Para as outras  colunas, como temos muitos dados (mais de 902.000 linhas), vamos excluir as linhas que contém dados NaN."
   ]
  },
  {
   "cell_type": "code",
   "execution_count": 5,
   "metadata": {
    "scrolled": true
   },
   "outputs": [
    {
     "name": "stdout",
     "output_type": "stream",
     "text": [
      "host_response_time             401843\n",
      "host_response_rate             401846\n",
      "host_is_superhost                 460\n",
      "host_listings_count               460\n",
      "latitude                            0\n",
      "longitude                           0\n",
      "property_type                       0\n",
      "room_type                           0\n",
      "accommodates                        0\n",
      "bathrooms                        1724\n",
      "bedrooms                          850\n",
      "beds                             2502\n",
      "bed_type                            0\n",
      "amenities                           0\n",
      "price                               0\n",
      "security_deposit               421280\n",
      "cleaning_fee                   313506\n",
      "guests_included                     0\n",
      "extra_people                        0\n",
      "minimum_nights                      0\n",
      "maximum_nights                      0\n",
      "number_of_reviews                   0\n",
      "review_scores_rating           448016\n",
      "review_scores_accuracy         448586\n",
      "review_scores_cleanliness      448413\n",
      "review_scores_checkin          448650\n",
      "review_scores_communication    448415\n",
      "review_scores_location         448553\n",
      "review_scores_value            448551\n",
      "instant_bookable                    0\n",
      "is_business_travel_ready            0\n",
      "cancellation_policy                 0\n",
      "ano                                 0\n",
      "mes                                 0\n",
      "dtype: int64\n",
      "(902210, 23)\n"
     ]
    }
   ],
   "source": [
    "#Excluir colunas que tenham mais de 300000 valores NaN.\n",
    "print(baseDadosArbnb.isnull().sum())\n",
    "baseDadosArbnb = baseDadosArbnb.dropna(axis=1,thresh=(baseDadosArbnb.shape[0]-300000),how='any')\n",
    "print(baseDadosArbnb.shape)"
   ]
  },
  {
   "cell_type": "code",
   "execution_count": 6,
   "metadata": {
    "scrolled": true
   },
   "outputs": [
    {
     "name": "stdout",
     "output_type": "stream",
     "text": [
      "(897709, 23)\n",
      "host_is_superhost           0\n",
      "host_listings_count         0\n",
      "latitude                    0\n",
      "longitude                   0\n",
      "property_type               0\n",
      "room_type                   0\n",
      "accommodates                0\n",
      "bathrooms                   0\n",
      "bedrooms                    0\n",
      "beds                        0\n",
      "bed_type                    0\n",
      "amenities                   0\n",
      "price                       0\n",
      "guests_included             0\n",
      "extra_people                0\n",
      "minimum_nights              0\n",
      "maximum_nights              0\n",
      "number_of_reviews           0\n",
      "instant_bookable            0\n",
      "is_business_travel_ready    0\n",
      "cancellation_policy         0\n",
      "ano                         0\n",
      "mes                         0\n",
      "dtype: int64\n"
     ]
    }
   ],
   "source": [
    "#Excluir linhas que tenham valores NaN.\n",
    "baseDadosArbnb = baseDadosArbnb.dropna()\n",
    "print(baseDadosArbnb.shape)\n",
    "print(baseDadosArbnb.isnull().sum())"
   ]
  },
  {
   "cell_type": "markdown",
   "metadata": {},
   "source": [
    "### Verificar Tipos de Dados em cada coluna"
   ]
  },
  {
   "cell_type": "code",
   "execution_count": 7,
   "metadata": {
    "scrolled": true
   },
   "outputs": [
    {
     "name": "stdout",
     "output_type": "stream",
     "text": [
      "host_is_superhost            object\n",
      "host_listings_count         float64\n",
      "latitude                    float64\n",
      "longitude                   float64\n",
      "property_type                object\n",
      "room_type                    object\n",
      "accommodates                  int64\n",
      "bathrooms                   float64\n",
      "bedrooms                    float64\n",
      "beds                        float64\n",
      "bed_type                     object\n",
      "amenities                    object\n",
      "price                        object\n",
      "guests_included               int64\n",
      "extra_people                 object\n",
      "minimum_nights                int64\n",
      "maximum_nights                int64\n",
      "number_of_reviews             int64\n",
      "instant_bookable             object\n",
      "is_business_travel_ready     object\n",
      "cancellation_policy          object\n",
      "ano                           int64\n",
      "mes                           int64\n",
      "dtype: object\n",
      "-------------------------------------------------------------------------------------------------------------------------------\n",
      "host_is_superhost                                                           f\n",
      "host_listings_count                                                       1.0\n",
      "latitude                                                           -22.946854\n",
      "longitude                                                          -43.182737\n",
      "property_type                                                       Apartment\n",
      "room_type                                                     Entire home/apt\n",
      "accommodates                                                                4\n",
      "bathrooms                                                                 1.0\n",
      "bedrooms                                                                  0.0\n",
      "beds                                                                      2.0\n",
      "bed_type                                                             Real Bed\n",
      "amenities                   {TV,Internet,\"Air conditioning\",Kitchen,Doorma...\n",
      "price                                                                 $133.00\n",
      "guests_included                                                             2\n",
      "extra_people                                                           $34.00\n",
      "minimum_nights                                                             60\n",
      "maximum_nights                                                            365\n",
      "number_of_reviews                                                          38\n",
      "instant_bookable                                                            f\n",
      "is_business_travel_ready                                                    f\n",
      "cancellation_policy                               strict_14_with_grace_period\n",
      "ano                                                                      2018\n",
      "mes                                                                         4\n",
      "Name: 0, dtype: object\n"
     ]
    }
   ],
   "source": [
    "#Printando as colunas e seus tipos e a primeira linha de cada coluna.\n",
    "print(baseDadosArbnb.dtypes)\n",
    "print('-'*127)\n",
    "print(baseDadosArbnb.iloc[0])"
   ]
  },
  {
   "cell_type": "markdown",
   "metadata": {},
   "source": [
    "- Como <b>preço</b> e <b>extra people</b> estão sendo reconhecidos como objeto (ao invés de ser um float), temos que mudar o tipo da coluna."
   ]
  },
  {
   "cell_type": "code",
   "execution_count": 8,
   "metadata": {},
   "outputs": [],
   "source": [
    "#função para alterar valores para float.\n",
    "def alterar_valor(texto): \n",
    "    valor = texto.replace('$', '').replace(',', '')\n",
    "    return float(valor)"
   ]
  },
  {
   "cell_type": "code",
   "execution_count": 9,
   "metadata": {
    "scrolled": true
   },
   "outputs": [
    {
     "name": "stdout",
     "output_type": "stream",
     "text": [
      "host_is_superhost            object\n",
      "host_listings_count         float64\n",
      "latitude                    float64\n",
      "longitude                   float64\n",
      "property_type                object\n",
      "room_type                    object\n",
      "accommodates                  int64\n",
      "bathrooms                   float64\n",
      "bedrooms                    float64\n",
      "beds                        float64\n",
      "bed_type                     object\n",
      "amenities                    object\n",
      "price                       float64\n",
      "guests_included               int64\n",
      "extra_people                float64\n",
      "minimum_nights                int64\n",
      "maximum_nights                int64\n",
      "number_of_reviews             int64\n",
      "instant_bookable             object\n",
      "is_business_travel_ready     object\n",
      "cancellation_policy          object\n",
      "ano                           int64\n",
      "mes                           int64\n",
      "dtype: object\n"
     ]
    }
   ],
   "source": [
    "#price\n",
    "baseDadosArbnb['price'] = baseDadosArbnb['price'].map(alterar_valor)\n",
    "\n",
    "#extra_people\n",
    "baseDadosArbnb['extra_people'] = baseDadosArbnb['extra_people'].map(alterar_valor)\n",
    "\n",
    "print(baseDadosArbnb.dtypes)"
   ]
  },
  {
   "cell_type": "markdown",
   "metadata": {},
   "source": [
    "### Análise Exploratória e Tratar Outliers"
   ]
  },
  {
   "cell_type": "markdown",
   "metadata": {},
   "source": [
    "- Olhar feature por feature para:\n",
    "<p></p>    \n",
    "    <b>1.</b> Ver a correlação entre as features e decidir se manteremos todas as features que temos.\n",
    "    \n",
    "    <b>2.</b> Excluir outiliers (usaremos como regra, valores abaixo de Q1 - 1.5 x Amplitude e valores acima de Q3 + 1.5 x Amplitude). Amplitude = Q3 - Q1\n",
    "    \n",
    "    <b>3.</b> Confirmar se todas as features fazem sentido para o modelo ou se alguma delas não vai  ajudar e devemos excluir.\n",
    "<p></p>\n",
    "- Começar pelas colunas de preço (resultado final que queremos) e de extra_people (também valor monetário). Esses são os valores numéricos contínuos.\n",
    "- Depois, analisar as colunas de valores numéricos discretos (accomodates, bedrooms, guests_included, etc.)\n",
    "- Por fim, avaliar as colunas de texto e definir quais categorias fazem sentido manter ou não."
   ]
  },
  {
   "cell_type": "markdown",
   "metadata": {},
   "source": [
    "### Encoding"
   ]
  },
  {
   "cell_type": "code",
   "execution_count": null,
   "metadata": {},
   "outputs": [],
   "source": []
  },
  {
   "cell_type": "markdown",
   "metadata": {},
   "source": [
    "### Modelo de Previsão"
   ]
  },
  {
   "cell_type": "code",
   "execution_count": null,
   "metadata": {},
   "outputs": [],
   "source": []
  },
  {
   "cell_type": "markdown",
   "metadata": {},
   "source": [
    "### Análise do Melhor Modelo"
   ]
  },
  {
   "cell_type": "code",
   "execution_count": null,
   "metadata": {},
   "outputs": [],
   "source": []
  },
  {
   "cell_type": "markdown",
   "metadata": {},
   "source": [
    "### Ajustes e Melhorias no Melhor Modelo"
   ]
  },
  {
   "cell_type": "code",
   "execution_count": null,
   "metadata": {},
   "outputs": [],
   "source": []
  }
 ],
 "metadata": {
  "kernelspec": {
   "display_name": "Python 3 (ipykernel)",
   "language": "python",
   "name": "python3"
  },
  "language_info": {
   "codemirror_mode": {
    "name": "ipython",
    "version": 3
   },
   "file_extension": ".py",
   "mimetype": "text/x-python",
   "name": "python",
   "nbconvert_exporter": "python",
   "pygments_lexer": "ipython3",
   "version": "3.9.7"
  }
 },
 "nbformat": 4,
 "nbformat_minor": 4
}
